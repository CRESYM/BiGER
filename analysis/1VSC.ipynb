{
 "cells": [
  {
   "cell_type": "markdown",
   "id": "2f6064f4-85de-47d2-be42-754e5769a859",
   "metadata": {},
   "source": [
    "# Validation notebook of 1-VSC system (GridFollowing): Stepss vs Openmodelica vs Dynawo\n",
    "# RMS simulation results for different scenarios"
   ]
  },
  {
   "cell_type": "markdown",
   "id": "11f42ae7-bf87-4325-ba79-e64e6c022bc0",
   "metadata": {},
   "source": [
    "## <center> Simulation setup </center>\n",
    "\n",
    "| | Stepss | Modelica | Dynawo |\n",
    "|-| :---: | :---: | :---: |\n",
    "| Duration | 2s | 2s | 2s |\n",
    "| Time step | 1ms (fix) | 10us-10ms (variable) | 10us-10ms (variable) |\n",
    "| Solver solution method | DAE | DAE | DAE |\n",
    "| Solver integration method | Backward Differentiation Formula (order2) | Dassl | IDA |"
   ]
  },
  {
   "cell_type": "markdown",
   "id": "5433f8c8-3cb7-42e2-8afc-d79c1c996f25",
   "metadata": {
    "jp-MarkdownHeadingCollapsed": true
   },
   "source": [
    "## Plotting Function"
   ]
  },
  {
   "cell_type": "code",
   "execution_count": null,
   "id": "ec8b449d-04e0-47a4-9438-d3e3fd23fd61",
   "metadata": {},
   "outputs": [],
   "source": [
    "import matplotlib.pyplot as plt\n",
    "import pandas as pd\n",
    "\n",
    "%matplotlib widget"
   ]
  },
  {
   "cell_type": "code",
   "execution_count": null,
   "id": "74cce12a-1113-458c-844e-2da4f023f25c",
   "metadata": {},
   "outputs": [],
   "source": [
    "def plot_results(scenario, stepss_file, openmodelica_file, dynawo_file):\n",
    "\n",
    "    stepss = pd.read_csv(stepss_file, sep = '\\s+', comment=\";\", keep_default_na=False, names=('time', 'idref', 'iqref',  'P_MW', 'Q_Mvar', 'Vm', 'BUS_A'))\n",
    "    openmodelica = pd.read_csv(openmodelica_file, sep = ',')\n",
    "    dynawo= pd.read_csv(dynawo_file, sep = ';')\n",
    "\n",
    "        \n",
    "    stepss_variables= [\"idref\", \"iqref\", \"P_MW\", \"Q_Mvar\", \"Vm\", \"BUS_A\"]\n",
    "    modelica_variables= [\"GridFollowingControl.activePowerLoop.idRefPu\", \"GridFollowingControl.reactivePowerLoop.iqRefPu\",'InjectorGFL.PGenPu', 'InjectorGFL.QGenPu', 'InjectorGFL.UConvPu', 'InjectorGFL.UPccPu']\n",
    "    dynawo_variables= [\"GFLVSC_controlGFL_activePowerLoop_idRefPu\", \"GFLVSC_controlGFL_reactivePowerLoop_iqRefPu\",'GFLVSC_injectorGFL_PGenPu', 'GFLVSC_injectorGFL_QGenPu', 'GFLVSC_injectorGFL_UConvPu', 'GFLVSC_injectorGFL_UPccPu']\n",
    "    labels= [\"idref (p.u)\", \"iqref (p.u)\", \"P (MW)\", \"Q (Mvar)\", \"Vm (p.u)\", \"Vpcc (p.u)\"]\n",
    "\n",
    "    plt.close('all')\n",
    "    plt.figure(figsize=(15, 12))\n",
    "    plt.suptitle(scenario , fontsize=16)\n",
    "    plt.subplots_adjust(top=0.9, hspace=0.4, wspace=0.4)\n",
    "    plt.tight_layout()\n",
    "    \n",
    "    for n, (x, y, z, l) in enumerate(zip(stepss_variables, modelica_variables, dynawo_variables, labels)):\n",
    "        ax = plt.subplot(3, 2, n + 1)\n",
    "        ax.plot(stepss['time'], stepss[x], color= 'black', linestyle='-', label='Stepss')\n",
    "        if y== 'InjectorGFL.PGenPu' or y== 'InjectorGFL.QGenPu':\n",
    "            ax.plot(openmodelica['time'], openmodelica[y]*1200, color= 'tab:red', linestyle='-.', label='Modelica')\n",
    "        else:\n",
    "            ax.plot(openmodelica['time'], openmodelica[y], color= 'tab:red', linestyle='-.', label='Modelica')\n",
    "        if z== 'GFLVSC_injectorGFL_PGenPu' or z=='GFLVSC_injectorGFL_QGenPu':\n",
    "            ax.plot(dynawo['time'], dynawo[z]*1200, color= 'tab:green', linestyle=':', label='Dynawo')\n",
    "        else:\n",
    "            ax.plot(dynawo['time'], dynawo[z], color= 'tab:green', linestyle=':', label='Dynawo')\n",
    "        \n",
    "        ax.set_title(l, fontsize=14)\n",
    "        ax.set_ylabel(l, fontsize=14)\n",
    "        ax.tick_params(axis='both', which='major', labelsize=14)\n",
    "        ax.tick_params(axis='both', which='minor', labelsize=14)\n",
    "        ax.legend(fontsize=14, loc=\"lower right\")\n",
    "        ax.legend(fontsize=14, loc=\"upper right\")\n"
   ]
  },
  {
   "cell_type": "markdown",
   "id": "8b7da047-038a-482e-84d4-13f026d00171",
   "metadata": {
    "tags": []
   },
   "source": [
    "## Event: Setpoint change"
   ]
  },
  {
   "cell_type": "markdown",
   "id": "fdbb3ded-b9d6-423e-851c-c243f066de93",
   "metadata": {
    "tags": []
   },
   "source": [
    "### Scenario 1: reduce active power setpoint by -0.05 p.u. (converter base power)"
   ]
  },
  {
   "cell_type": "code",
   "execution_count": null,
   "id": "101019f7-b0ef-446a-ab92-b077d78712b7",
   "metadata": {},
   "outputs": [],
   "source": [
    "plot_results('Scenario 1: reduce active power setpoint by -0.05 p.u. (converter base power)',\n",
    "             './results/1VSC/Scenario1_deltaP/1VSC_scenario1_stepss.csv',\n",
    "             './results/1VSC/Scenario1_deltaP/1VSC_scenario1_modelica.csv',\n",
    "             './results/1VSC/Scenario1_deltaP/1VSC_scenario1_dynawo.csv')"
   ]
  },
  {
   "cell_type": "markdown",
   "id": "ce583d33-9f10-4ce7-9a17-ef7ca1c4d3a7",
   "metadata": {
    "tags": []
   },
   "source": [
    "### Scenario 2: increase active power setpoint by 0.5 p.u. (converter base power)"
   ]
  },
  {
   "cell_type": "code",
   "execution_count": null,
   "id": "42cb252c-141a-4c9d-a880-1cb33eba57a6",
   "metadata": {},
   "outputs": [],
   "source": [
    "plot_results('Scenario 2: increase active power setpoint by 0.5 p.u. (converter base power)',\n",
    "             './results/1VSC/Scenario2_deltaP_saturated/1VSC_scenario2_stepss.csv',\n",
    "             './results/1VSC/Scenario2_deltaP_saturated/1VSC_scenario2_modelica.csv',\n",
    "             './results/1VSC/Scenario2_deltaP_saturated/1VSC_scenario2_dynawo.csv')"
   ]
  },
  {
   "cell_type": "markdown",
   "id": "b4e8290b-6f10-4161-9e76-749f009a7aab",
   "metadata": {
    "tags": []
   },
   "source": [
    "### Scenario 3: increase voltage setpoint by 0.02 p.u. (network base voltage)"
   ]
  },
  {
   "cell_type": "code",
   "execution_count": null,
   "id": "b560530c-ff9b-47da-b2fb-6070ae037541",
   "metadata": {},
   "outputs": [],
   "source": [
    "plot_results('Scenario 3: increase voltage setpoint by 0.02 p.u. (network base voltage)',\n",
    "             './results/1VSC/Scenario3_deltaU/1VSC_scenario3_stepss.csv',\n",
    "             './results/1VSC/Scenario3_deltaU/1VSC_scenario3_modelica.csv',\n",
    "             './results/1VSC/Scenario3_deltaU/1VSC_scenario3_dynawo.csv')"
   ]
  },
  {
   "cell_type": "markdown",
   "id": "63126642-2824-4513-a79a-a65b5b8468ae",
   "metadata": {
    "tags": []
   },
   "source": [
    "### Scenario 4: increase voltage setpoint by 0.2 p.u. (network base voltage)"
   ]
  },
  {
   "cell_type": "code",
   "execution_count": null,
   "id": "008653c9-95f9-4d3a-b575-54866effa86b",
   "metadata": {},
   "outputs": [],
   "source": [
    "plot_results('Scenario 4: increase voltage setpoint by 0.2 p.u. (network base voltage)',\n",
    "             './results/1VSC/Scenario4_deltaU_saturated/1VSC_scenario4_stepss.csv',\n",
    "             './results/1VSC/Scenario4_deltaU_saturated/1VSC_scenario4_modelica.csv',\n",
    "             './results/1VSC/Scenario4_deltaU_saturated/1VSC_scenario4_dynawo.csv')"
   ]
  },
  {
   "cell_type": "markdown",
   "id": "6c03ff52-d449-41c2-930d-2f6b329bd2eb",
   "metadata": {
    "tags": []
   },
   "source": [
    "## Event: Fault"
   ]
  },
  {
   "cell_type": "markdown",
   "id": "01aef6a8-99c0-42e7-adc7-69a6964282cf",
   "metadata": {
    "tags": []
   },
   "source": [
    "### Scenario 5: fault at converter PCC"
   ]
  },
  {
   "cell_type": "code",
   "execution_count": null,
   "id": "8ce096f4-e312-4a13-b0cb-a9d0e81fff69",
   "metadata": {},
   "outputs": [],
   "source": [
    "plot_results('Scenario 5: fault at converter PCC',\n",
    "             './results/1VSC/Scenario5_faultPcc/1VSC_scenario5_stepss.csv',\n",
    "             './results/1VSC/Scenario5_faultPcc/1VSC_scenario5_modelica.csv',\n",
    "             './results/1VSC/Scenario5_faultPcc/1VSC_scenario5_dynawo.csv') #fault impedance: 0.000001"
   ]
  },
  {
   "cell_type": "markdown",
   "id": "9543b286-1736-44e4-b86c-647e616246d9",
   "metadata": {},
   "source": [
    "### Scenario 6: fault at infinite bus"
   ]
  },
  {
   "cell_type": "code",
   "execution_count": null,
   "id": "32de0dd5-31f5-45e7-9de8-ef2fee36ac25",
   "metadata": {},
   "outputs": [],
   "source": [
    "plot_results('Scenario 6: fault at infinite bus',\n",
    "             './results/1VSC/Scenario6_faultThEq/1VSC_scenario6_stepss.csv',\n",
    "             './results/1VSC/Scenario6_faultThEq/1VSC_scenario6_modelica.csv',\n",
    "             './results/1VSC/Scenario6_faultThEq/1VSC_scenario6_dynawo.csv') #fault impedance: 0.000001"
   ]
  }
 ],
 "metadata": {
  "kernelspec": {
   "display_name": "Python 3 (ipykernel)",
   "language": "python",
   "name": "python3"
  },
  "language_info": {
   "codemirror_mode": {
    "name": "ipython",
    "version": 3
   },
   "file_extension": ".py",
   "mimetype": "text/x-python",
   "name": "python",
   "nbconvert_exporter": "python",
   "pygments_lexer": "ipython3",
   "version": "3.8.10"
  }
 },
 "nbformat": 4,
 "nbformat_minor": 5
}
