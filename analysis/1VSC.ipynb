{
 "cells": [
  {
   "cell_type": "markdown",
   "id": "2f6064f4-85de-47d2-be42-754e5769a859",
   "metadata": {},
   "source": [
    "# Validation notebook of 1-VSC system (GridFollowing): Stepss vs Openmodelica vs Dynawo\n",
    "# RMS simulation results for different scenarios"
   ]
  },
  {
   "cell_type": "markdown",
   "id": "11f42ae7-bf87-4325-ba79-e64e6c022bc0",
   "metadata": {},
   "source": [
    "## <center> Simulation setup </center>\n",
    "\n",
    "| | Stepss | Modelica | Dynawo |\n",
    "|-| :---: | :---: | :---: |\n",
    "| Duration | 2s | 2s | 2s |\n",
    "| Time step | 1ms (fix) | 10us-10ms (variable) | 10us-10ms (variable) |\n",
    "| Solver solution method | DAE | DAE (IDA) | DAE (IDA) |\n",
    "| Solver integration method | Backward Differentiation Formula (order2) | IDA | IDA |"
   ]
  },
  {
   "cell_type": "markdown",
   "id": "e90b8654-6cc9-46c7-9d07-cfdef687a28e",
   "metadata": {
    "tags": []
   },
   "source": [
    "## Event: Setpoint change"
   ]
  },
  {
   "cell_type": "markdown",
   "id": "fdbb3ded-b9d6-423e-851c-c243f066de93",
   "metadata": {
    "jp-MarkdownHeadingCollapsed": true,
    "tags": []
   },
   "source": [
    "### Scenario 1: reduce active power setpoint by -0.05 p.u. (converter base power)"
   ]
  },
  {
   "cell_type": "code",
   "execution_count": null,
   "id": "7b934366-26bd-4264-b269-71ff6fa9b958",
   "metadata": {
    "tags": []
   },
   "outputs": [],
   "source": [
    "import matplotlib.pyplot as plt\n",
    "import pandas as pd\n",
    "\n",
    "%matplotlib widget\n",
    "\n",
    "stepss = pd.read_csv('./results/1VSC/scenario_1/1VSC_scenario1_stepss.csv', sep = '\\s+', comment=\";\", keep_default_na=False, names=('time', 'P_MW', 'Q_Mvar', 'Vm', 'BUS_A'))\n",
    "openmodelica = pd.read_csv('./results/1VSC/scenario_1/1VSC_scenario1_modelica.csv', sep = ',')\n",
    "dynawo= pd.read_csv('./results/1VSC/scenario_1/1VSC_scenario1_dynawo.csv', sep = ';')"
   ]
  },
  {
   "cell_type": "code",
   "execution_count": null,
   "id": "a452f09b-250f-4e04-9271-ee747c829653",
   "metadata": {},
   "outputs": [],
   "source": [
    "plt.close('all')\n",
    "fig, ax = plt.subplots(2, 2)\n",
    "\n",
    "\n",
    "ax[0,0].plot(stepss['time'], stepss['P_MW'], color= 'black', linestyle='-', label='Stepss')\n",
    "ax[0,0].plot(openmodelica['time'], openmodelica['InjectorGFL.PGenPu']*1200, color= 'tab:green', linestyle='-', label='Modelica')\n",
    "ax[0,0].plot(dynawo['time'], dynawo['GFLVSC_injectorGFL_PGenPu']*1200, color= 'tab:red', linestyle='-', label='Dynawo')\n",
    "ax[0,0].set_title('Active power (MW)', fontsize=14)\n",
    "ax[0,0].set_ylabel('Active power (MW)', fontsize=14)\n",
    "# ax[0,0].set_xlim([0.4, 1])\n",
    "# ax[0,0].set_ylim([1.004, 1.01])\n",
    "ax[0,0].tick_params(axis='both', which='major', labelsize=14)\n",
    "ax[0,0].tick_params(axis='both', which='minor', labelsize=14)\n",
    "ax[0,0].legend(fontsize=14, loc=\"lower right\")\n",
    "ax[0,0].legend(fontsize=14, loc=\"upper right\")\n",
    "\n",
    "ax[0,1].plot(stepss['time'], stepss['Q_Mvar'], color= 'black', linestyle='-', label='stepss')\n",
    "ax[0,1].plot(openmodelica['time'], openmodelica['InjectorGFL.QGenPu']*1200, color= 'tab:green', linestyle='-', label='Modelica')\n",
    "ax[0,1].plot(dynawo['time'], dynawo['GFLVSC_injectorGFL_QGenPu']*1200, color= 'tab:red', linestyle='-', label='Dynawo')\n",
    "ax[0,1].set_title('Reactive power (MVA)', fontsize=14)\n",
    "ax[0,1].set_ylabel('Reactive power (MVA)', fontsize=14)\n",
    "# ax[0,1].set_xlim([0.4, 1])\n",
    "# ax[0,1].set_ylim([1.004, 1.01])\n",
    "ax[0,1].tick_params(axis='both', which='major', labelsize=14)\n",
    "ax[0,1].tick_params(axis='both', which='minor', labelsize=14)\n",
    "ax[0,1].legend(fontsize=14, loc=\"upper right\")\n",
    "\n",
    "ax[1,0].plot(stepss['time'], stepss['Vm'], color= 'black', linestyle='-', label='stepss')\n",
    "ax[1,0].plot(openmodelica['time'], openmodelica['InjectorGFL.UConvPu'], color= 'tab:green', linestyle='-', label='Modelica')\n",
    "ax[1,0].plot(dynawo['time'], dynawo['GFLVSC_injectorGFL_UConvPu'], color= 'tab:red', linestyle='-', label='Dynawo')\n",
    "ax[1,0].set_title('Voltage converter terminal (p.u.)', fontsize=14)\n",
    "ax[1,0].set_ylabel('Vm (p.u)', fontsize=14)\n",
    "# ax[1,0].set_xlim([0.4, 1])\n",
    "# ax[0,0].set_ylim([1.004, 1.01])\n",
    "ax[1,0].tick_params(axis='both', which='major', labelsize=14)\n",
    "ax[1,0].tick_params(axis='both', which='minor', labelsize=14)\n",
    "ax[1,0].legend(fontsize=14, loc=\"upper right\")\n",
    "\n",
    "ax[1,1].plot(stepss['time'], stepss['BUS_A'], color= 'black', linestyle='-', label='stepss')\n",
    "ax[1,1].plot(openmodelica['time'], openmodelica['InjectorGFL.UPccPu'], color= 'tab:green', linestyle='-', label='Modelica')\n",
    "ax[1,1].plot(dynawo['time'], dynawo['GFLVSC_injectorGFL_UPccPu'], color= 'tab:red', linestyle='-.', label='Dynawo')\n",
    "ax[1,1].set_title('Voltage PCC (p.u.)', fontsize=14)\n",
    "ax[1,1].set_ylabel('Vc (p.u)', fontsize=14)\n",
    "# ax[1,1].set_xlim([0.4, 1])\n",
    "# ax[0,0].set_ylim([1.004, 1.01])\n",
    "ax[1,1].tick_params(axis='both', which='major', labelsize=14)\n",
    "ax[1,1].tick_params(axis='both', which='minor', labelsize=14)\n",
    "ax[1,1].legend(fontsize=14, loc=\"upper right\")\n",
    "\n",
    "\n",
    "\n",
    "# figure settings\n",
    "fig.set_figheight(10)\n",
    "fig.set_figwidth(15)\n",
    "# lines_labels = [ax.get_legend_handles_labels() for ax in fig.axes]\n",
    "# lines, labels = [sum(lol, []) for lol in zip(*lines_labels)]\n",
    "# fig.legend(lines, labels)\n",
    "# fig.suptitle('VSCs PCC Voltages', fontsize=16)\n",
    "fig.tight_layout()\n",
    "fig.subplots_adjust(top=0.9)\n",
    "\n"
   ]
  },
  {
   "cell_type": "markdown",
   "id": "ce583d33-9f10-4ce7-9a17-ef7ca1c4d3a7",
   "metadata": {
    "jp-MarkdownHeadingCollapsed": true,
    "tags": []
   },
   "source": [
    "### Scenario 2: increase power setpoint by 0.5 p.u. (converter base power)"
   ]
  },
  {
   "cell_type": "code",
   "execution_count": null,
   "id": "f06bd6c9-275d-447f-8005-d1a63795b381",
   "metadata": {
    "tags": []
   },
   "outputs": [],
   "source": [
    "import matplotlib.pyplot as plt\n",
    "import pandas as pd\n",
    "\n",
    "%matplotlib widget\n",
    "\n",
    "dynawo= pd.read_csv('./results/1VSC/scenario_2/1VSC_scenario2_dynawo.csv', sep = ';')\n",
    "stepss = pd.read_csv('./results/1VSC/scenario_2/1VSC_scenario2_stepss.csv', sep = '\\s+', comment=\";\", keep_default_na=False, names=('time', 'P_MW', 'Q_Mvar', 'Vm', 'Bus_A'))\n",
    "openmodelica = pd.read_csv('./results/1VSC/scenario_2/1VSC_scenario2_modelica.csv', sep = ',')\n"
   ]
  },
  {
   "cell_type": "code",
   "execution_count": null,
   "id": "249952f0-41db-4012-a87c-3f01dc1bef6b",
   "metadata": {
    "tags": []
   },
   "outputs": [],
   "source": [
    "plt.close('all')\n",
    "fig, ax = plt.subplots(2, 2)\n",
    "\n",
    "\n",
    "ax[0,0].plot(stepss['time'], stepss['P_MW'], color= 'black', linestyle='-', label='Stepss')\n",
    "ax[0,0].plot(openmodelica['time'], openmodelica['InjectorGFL.PGenPu']*1200, color= 'tab:green', linestyle='-', label='Modelica')\n",
    "ax[0,0].plot(dynawo['time'], dynawo['GFLVSC_injectorGFL_PGenPu']*1200, color= 'tab:red', linestyle='-', label='Dynawo')\n",
    "ax[0,0].set_title('Active power (MW)', fontsize=14)\n",
    "ax[0,0].set_ylabel('Active power (MW)', fontsize=14)\n",
    "# ax[0,0].set_xlim([0.4, 1])\n",
    "# ax[0,0].set_ylim([1.004, 1.01])\n",
    "ax[0,0].tick_params(axis='both', which='major', labelsize=14)\n",
    "ax[0,0].tick_params(axis='both', which='minor', labelsize=14)\n",
    "ax[0,0].legend(fontsize=14, loc=\"lower right\")\n",
    "ax[0,0].legend(fontsize=14, loc=\"upper right\")\n",
    "\n",
    "ax[0,1].plot(stepss['time'], stepss['Q_Mvar'], color= 'black', linestyle='-', label='stepss')\n",
    "ax[0,1].plot(openmodelica['time'], openmodelica['InjectorGFL.QGenPu']*1200, color= 'tab:green', linestyle='-', label='Modelica')\n",
    "ax[0,1].plot(dynawo['time'], dynawo['GFLVSC_injectorGFL_QGenPu']*1200, color= 'tab:red', linestyle='-', label='Dynawo')\n",
    "ax[0,1].set_title('Reactive power (MVA)', fontsize=14)\n",
    "ax[0,1].set_ylabel('Reactive power (MVA)', fontsize=14)\n",
    "# ax[0,1].set_xlim([0.4, 1])\n",
    "# ax[0,1].set_ylim([1.004, 1.01])\n",
    "ax[0,1].tick_params(axis='both', which='major', labelsize=14)\n",
    "ax[0,1].tick_params(axis='both', which='minor', labelsize=14)\n",
    "ax[0,1].legend(fontsize=14, loc=\"upper right\")\n",
    "\n",
    "ax[1,0].plot(stepss['time'], stepss['Vm'], color= 'black', linestyle='-', label='stepss')\n",
    "ax[1,0].plot(openmodelica['time'], openmodelica['InjectorGFL.UConvPu'], color= 'tab:green', linestyle='-', label='Modelica')\n",
    "ax[1,0].plot(dynawo['time'], dynawo['GFLVSC_injectorGFL_UConvPu'], color= 'tab:red', linestyle='-', label='Dynawo')\n",
    "ax[1,0].set_title('Voltage converter terminal (p.u.)', fontsize=14)\n",
    "ax[1,0].set_ylabel('Vm (p.u)', fontsize=14)\n",
    "# ax[1,0].set_xlim([0.4, 1])\n",
    "# ax[0,0].set_ylim([1.004, 1.01])\n",
    "ax[1,0].tick_params(axis='both', which='major', labelsize=14)\n",
    "ax[1,0].tick_params(axis='both', which='minor', labelsize=14)\n",
    "ax[1,0].legend(fontsize=14, loc=\"upper right\")\n",
    "\n",
    "ax[1,1].plot(stepss['time'], stepss['Bus_A'], color= 'black', linestyle='-', label='stepss')\n",
    "ax[1,1].plot(openmodelica['time'], openmodelica['InjectorGFL.UPccPu'], color= 'tab:green', linestyle='-', label='Modelica')\n",
    "ax[1,1].plot(dynawo['time'], dynawo['GFLVSC_injectorGFL_UPccPu'], color= 'tab:red', linestyle='-.', label='Dynawo')\n",
    "ax[1,1].set_title('Voltage PCC (p.u.)', fontsize=14)\n",
    "ax[1,1].set_ylabel('Vc (p.u)', fontsize=14)\n",
    "# ax[1,1].set_xlim([0.4, 1])\n",
    "# ax[0,0].set_ylim([1.004, 1.01])\n",
    "ax[1,1].tick_params(axis='both', which='major', labelsize=14)\n",
    "ax[1,1].tick_params(axis='both', which='minor', labelsize=14)\n",
    "ax[1,1].legend(fontsize=14, loc=\"upper right\")\n",
    "\n",
    "\n",
    "\n",
    "# figure settings\n",
    "fig.set_figheight(10)\n",
    "fig.set_figwidth(15)\n",
    "# lines_labels = [ax.get_legend_handles_labels() for ax in fig.axes]\n",
    "# lines, labels = [sum(lol, []) for lol in zip(*lines_labels)]\n",
    "# fig.legend(lines, labels)\n",
    "# fig.suptitle('VSCs PCC Voltages', fontsize=16)\n",
    "fig.tight_layout()\n",
    "fig.subplots_adjust(top=0.9)"
   ]
  },
  {
   "cell_type": "markdown",
   "id": "b4e8290b-6f10-4161-9e76-749f009a7aab",
   "metadata": {
    "jp-MarkdownHeadingCollapsed": true,
    "tags": []
   },
   "source": [
    "### Scenario 3: increase voltage setpoint by 0.02 p.u. (network base voltage)"
   ]
  },
  {
   "cell_type": "code",
   "execution_count": null,
   "id": "9f9fa6c4-b78a-48ce-9273-596a393c5d24",
   "metadata": {
    "tags": []
   },
   "outputs": [],
   "source": [
    "import matplotlib.pyplot as plt\n",
    "import pandas as pd\n",
    "\n",
    "%matplotlib widget\n",
    "\n",
    "dynawo= pd.read_csv('./results/1VSC/scenario_3/1VSC_scenario3_dynawo.csv', sep = ';')\n",
    "stepss = pd.read_csv('./results/1VSC/scenario_3/1VSC_scenario3_stepss.csv', sep = '\\s+', comment=\";\", keep_default_na=False, names=('time', 'P_MW', 'Q_Mvar', 'Vm', 'Bus_A'))\n",
    "openmodelica = pd.read_csv('./results/1VSC/scenario_3/1VSC_scenario3_modelica.csv', sep = ',')"
   ]
  },
  {
   "cell_type": "code",
   "execution_count": null,
   "id": "6e4fb76c-c5ea-4d94-af2b-81a6f61e1abd",
   "metadata": {
    "tags": []
   },
   "outputs": [],
   "source": [
    "plt.close('all')\n",
    "fig, ax = plt.subplots(2, 2)\n",
    "\n",
    "\n",
    "ax[0,0].plot(stepss['time'], stepss['P_MW'], color= 'black', linestyle='-', label='Stepss')\n",
    "ax[0,0].plot(openmodelica['time'], openmodelica['InjectorGFL.PGenPu']*1200, color= 'tab:green', linestyle='-', label='Modelica')\n",
    "ax[0,0].plot(dynawo['time'], dynawo['GFLVSC_injectorGFL_PGenPu']*1200, color= 'tab:red', linestyle='-.', label='Dynawo')\n",
    "ax[0,0].set_title('Active power (MW)', fontsize=14)\n",
    "ax[0,0].set_ylabel('Active power (MW)', fontsize=14)\n",
    "# ax[0,0].set_xlim([0.4, 1])\n",
    "# ax[0,0].set_ylim([1.004, 1.01])\n",
    "ax[0,0].tick_params(axis='both', which='major', labelsize=14)\n",
    "ax[0,0].tick_params(axis='both', which='minor', labelsize=14)\n",
    "ax[0,0].legend(fontsize=14, loc=\"lower right\")\n",
    "ax[0,0].legend(fontsize=14, loc=\"upper right\")\n",
    "\n",
    "ax[0,1].plot(stepss['time'], stepss['Q_Mvar'], color= 'black', linestyle='-', label='stepss')\n",
    "ax[0,1].plot(openmodelica['time'], openmodelica['InjectorGFL.QGenPu']*1200, color= 'tab:green', linestyle='-', label='Modelica')\n",
    "ax[0,1].plot(dynawo['time'], dynawo['GFLVSC_injectorGFL_QGenPu']*1200, color= 'tab:red', linestyle='-.', label='Dynawo')\n",
    "ax[0,1].set_title('Reactive power (MVA)', fontsize=14)\n",
    "ax[0,1].set_ylabel('Reactive power (MVA)', fontsize=14)\n",
    "# ax[0,1].set_xlim([0.4, 1])\n",
    "# ax[0,1].set_ylim([1.004, 1.01])\n",
    "ax[0,1].tick_params(axis='both', which='major', labelsize=14)\n",
    "ax[0,1].tick_params(axis='both', which='minor', labelsize=14)\n",
    "ax[0,1].legend(fontsize=14, loc=\"upper right\")\n",
    "\n",
    "ax[1,0].plot(stepss['time'], stepss['Vm'], color= 'black', linestyle='-', label='stepss')\n",
    "ax[1,0].plot(openmodelica['time'], openmodelica['InjectorGFL.UConvPu'], color= 'tab:green', linestyle='-', label='Modelica')\n",
    "ax[1,0].plot(dynawo['time'], dynawo['GFLVSC_injectorGFL_UConvPu'], color= 'tab:red', linestyle='-.', label='Dynawo')\n",
    "ax[1,0].set_title('Voltage converter terminal (p.u.)', fontsize=14)\n",
    "ax[1,0].set_ylabel('Vm (p.u)', fontsize=14)\n",
    "# ax[1,0].set_xlim([0.4, 1])\n",
    "# ax[0,0].set_ylim([1.004, 1.01])\n",
    "ax[1,0].tick_params(axis='both', which='major', labelsize=14)\n",
    "ax[1,0].tick_params(axis='both', which='minor', labelsize=14)\n",
    "ax[1,0].legend(fontsize=14, loc=\"upper right\")\n",
    "\n",
    "ax[1,1].plot(stepss['time'], stepss['Bus_A'], color= 'black', linestyle='-', label='stepss')\n",
    "ax[1,1].plot(openmodelica['time'], openmodelica['InjectorGFL.UPccPu'], color= 'tab:green', linestyle='-', label='Modelica')\n",
    "ax[1,1].plot(dynawo['time'], dynawo['GFLVSC_injectorGFL_UPccPu'], color= 'tab:red', linestyle='-.', label='Dynawo')\n",
    "ax[1,1].set_title('Voltage PCC (p.u.)', fontsize=14)\n",
    "ax[1,1].set_ylabel('Vc (p.u)', fontsize=14)\n",
    "# ax[1,1].set_xlim([0.4, 1])\n",
    "# ax[0,0].set_ylim([1.004, 1.01])\n",
    "ax[1,1].tick_params(axis='both', which='major', labelsize=14)\n",
    "ax[1,1].tick_params(axis='both', which='minor', labelsize=14)\n",
    "ax[1,1].legend(fontsize=14, loc=\"upper right\")\n",
    "\n",
    "\n",
    "\n",
    "# figure settings\n",
    "fig.set_figheight(10)\n",
    "fig.set_figwidth(15)\n",
    "# lines_labels = [ax.get_legend_handles_labels() for ax in fig.axes]\n",
    "# lines, labels = [sum(lol, []) for lol in zip(*lines_labels)]\n",
    "# fig.legend(lines, labels)\n",
    "# fig.suptitle('VSCs PCC Voltages', fontsize=16)\n",
    "fig.tight_layout()\n",
    "fig.subplots_adjust(top=0.9)"
   ]
  },
  {
   "cell_type": "markdown",
   "id": "63126642-2824-4513-a79a-a65b5b8468ae",
   "metadata": {
    "jp-MarkdownHeadingCollapsed": true,
    "tags": []
   },
   "source": [
    "### Scenario 4: increase voltage setpoint by 0.2 p.u. (network base voltage)"
   ]
  },
  {
   "cell_type": "code",
   "execution_count": null,
   "id": "fddacf0c-bdda-4519-aad2-20c1a8787370",
   "metadata": {
    "tags": []
   },
   "outputs": [],
   "source": [
    "import matplotlib.pyplot as plt\n",
    "import pandas as pd\n",
    "\n",
    "%matplotlib widget\n",
    "\n",
    "dynawo= pd.read_csv('./results/1VSC/scenario_4/1VSC_scenario4_dynawo.csv', sep = ';')\n",
    "stepss = pd.read_csv('./results/1VSC/scenario_4/1VSC_scenario4_stepss.csv', sep = '\\s+', comment=\";\", keep_default_na=False, names=('time', 'P_MW', 'Q_Mvar', 'Vm', 'Bus_A'))\n",
    "openmodelica = pd.read_csv('./results/1VSC/scenario_4/1VSC_scenario4_modelica.csv', sep = ',')"
   ]
  },
  {
   "cell_type": "code",
   "execution_count": null,
   "id": "b0f30376-ae26-452e-8e2b-0f88fb132924",
   "metadata": {
    "tags": []
   },
   "outputs": [],
   "source": [
    "plt.close('all')\n",
    "fig, ax = plt.subplots(2, 2)\n",
    "\n",
    "\n",
    "ax[0,0].plot(stepss['time'], stepss['P_MW'], color= 'black', linestyle='-', label='Stepss')\n",
    "ax[0,0].plot(openmodelica['time'], openmodelica['InjectorGFL.PGenPu']*1200, color= 'tab:green', linestyle='-.', label='Modelica')\n",
    "ax[0,0].plot(dynawo['time'], dynawo['GFLVSC_injectorGFL_PGenPu']*1200, color= 'tab:red', linestyle=':', label='Dynawo')\n",
    "ax[0,0].set_title('Active power (MW)', fontsize=14)\n",
    "ax[0,0].set_ylabel('Active power (MW)', fontsize=14)\n",
    "# ax[0,0].set_xlim([0.4, 1])\n",
    "# ax[0,0].set_ylim([1.004, 1.01])\n",
    "ax[0,0].tick_params(axis='both', which='major', labelsize=14)\n",
    "ax[0,0].tick_params(axis='both', which='minor', labelsize=14)\n",
    "ax[0,0].legend(fontsize=14, loc=\"lower right\")\n",
    "ax[0,0].legend(fontsize=14, loc=\"upper right\")\n",
    "\n",
    "ax[0,1].plot(stepss['time'], stepss['Q_Mvar'], color= 'black', linestyle='-', label='stepss')\n",
    "ax[0,1].plot(openmodelica['time'], openmodelica['InjectorGFL.QGenPu']*1200, color= 'tab:green', linestyle='-.', label='Modelica')\n",
    "ax[0,1].plot(dynawo['time'], dynawo['GFLVSC_injectorGFL_QGenPu']*1200, color= 'tab:red', linestyle=':', label='Dynawo')\n",
    "ax[0,1].set_title('Reactive power (MVA)', fontsize=14)\n",
    "ax[0,1].set_ylabel('Reactive power (MVA)', fontsize=14)\n",
    "# ax[0,1].set_xlim([0.4, 1])\n",
    "# ax[0,1].set_ylim([1.004, 1.01])\n",
    "ax[0,1].tick_params(axis='both', which='major', labelsize=14)\n",
    "ax[0,1].tick_params(axis='both', which='minor', labelsize=14)\n",
    "ax[0,1].legend(fontsize=14, loc=\"upper right\")\n",
    "\n",
    "ax[1,0].plot(stepss['time'], stepss['Vm'], color= 'black', linestyle='-', label='stepss')\n",
    "ax[1,0].plot(openmodelica['time'], openmodelica['InjectorGFL.UConvPu'], color= 'tab:green', linestyle='-.', label='Modelica')\n",
    "ax[1,0].plot(dynawo['time'], dynawo['GFLVSC_injectorGFL_UConvPu'], color= 'tab:red', linestyle=':', label='Dynawo')\n",
    "ax[1,0].set_title('Voltage converter terminal (p.u.)', fontsize=14)\n",
    "ax[1,0].set_ylabel('Vm (p.u)', fontsize=14)\n",
    "# ax[1,0].set_xlim([0.4, 1])\n",
    "# ax[0,0].set_ylim([1.004, 1.01])\n",
    "ax[1,0].tick_params(axis='both', which='major', labelsize=14)\n",
    "ax[1,0].tick_params(axis='both', which='minor', labelsize=14)\n",
    "ax[1,0].legend(fontsize=14, loc=\"upper right\")\n",
    "\n",
    "ax[1,1].plot(stepss['time'], stepss['Bus_A'], color= 'black', linestyle='-', label='stepss')\n",
    "ax[1,1].plot(openmodelica['time'], openmodelica['InjectorGFL.UPccPu'], color= 'tab:green', linestyle='-.', label='Modelica')\n",
    "ax[1,1].plot(dynawo['time'], dynawo['GFLVSC_injectorGFL_UPccPu'], color= 'tab:red', linestyle=':', label='Dynawo')\n",
    "ax[1,1].set_title('Voltage PCC (p.u.)', fontsize=14)\n",
    "ax[1,1].set_ylabel('Vc (p.u)', fontsize=14)\n",
    "# ax[1,1].set_xlim([0.4, 1])\n",
    "# ax[0,0].set_ylim([1.004, 1.01])\n",
    "ax[1,1].tick_params(axis='both', which='major', labelsize=14)\n",
    "ax[1,1].tick_params(axis='both', which='minor', labelsize=14)\n",
    "ax[1,1].legend(fontsize=14, loc=\"upper right\")\n",
    "\n",
    "\n",
    "\n",
    "# figure settings\n",
    "fig.set_figheight(10)\n",
    "fig.set_figwidth(15)\n",
    "# lines_labels = [ax.get_legend_handles_labels() for ax in fig.axes]\n",
    "# lines, labels = [sum(lol, []) for lol in zip(*lines_labels)]\n",
    "# fig.legend(lines, labels)\n",
    "# fig.suptitle('VSCs PCC Voltages', fontsize=16)\n",
    "fig.tight_layout()\n",
    "fig.subplots_adjust(top=0.9)"
   ]
  },
  {
   "cell_type": "markdown",
   "id": "6c03ff52-d449-41c2-930d-2f6b329bd2eb",
   "metadata": {
    "jp-MarkdownHeadingCollapsed": true,
    "tags": []
   },
   "source": [
    "## Event: Fault"
   ]
  },
  {
   "cell_type": "markdown",
   "id": "01aef6a8-99c0-42e7-adc7-69a6964282cf",
   "metadata": {
    "tags": []
   },
   "source": [
    "### Scenario 5: fault at converter PCC"
   ]
  },
  {
   "cell_type": "code",
   "execution_count": null,
   "id": "61be6d5b-5dc0-4185-b8db-a6b5b2aa27b4",
   "metadata": {
    "tags": []
   },
   "outputs": [],
   "source": [
    "import matplotlib.pyplot as plt\n",
    "import pandas as pd\n",
    "\n",
    "%matplotlib widget\n",
    "\n",
    "\n",
    "stepss = pd.read_csv('./results/1VSC/scenario_5/1VSC_scenario5_stepss.csv', sep = '\\s+', comment=\";\", keep_default_na=False, names=('time', 'P_MW', 'Q_Mvar', 'Vm', 'Bus_A'))\n",
    "openmodelica = pd.read_csv('./results/1VSC/scenario_5/1VSC_scenario5_modelica.csv', sep = ',')\n",
    "dynawo= pd.read_csv('./results/1VSC/scenario_5/1VSC_scenario5_dynawo.csv', sep = ';')\n",
    "\n",
    "openmodelica_PIFreeze = pd.read_csv('./results/1VSC/scenario_5/exportedVariables_PIFreeze.csv', sep = ',')"
   ]
  },
  {
   "cell_type": "code",
   "execution_count": null,
   "id": "63224ea1-24f8-44cb-9193-cc66f9e0dab1",
   "metadata": {
    "tags": []
   },
   "outputs": [],
   "source": [
    "plt.close('all')\n",
    "fig, ax = plt.subplots(2, 2)\n",
    "\n",
    "\n",
    "ax[0,0].plot(stepss['time'], stepss['P_MW'], color= 'black', linestyle='-', label='stepss')\n",
    "ax[0,0].plot(openmodelica['time'], openmodelica['InjectorGFL.PGenPu']*1200, color= 'tab:green', linestyle='-.', label='Modelica (noFreeze)')\n",
    "ax[0,0].plot(openmodelica_PIFreeze['time'], openmodelica_PIFreeze['InjectorGFL.PGenPu']*1200, color= 'tab:green', linestyle='-', label='Modelica (CtrlFreeze)')\n",
    "ax[0,0].plot(dynawo['time'], dynawo['GFLVSC_injectorGFL_PGenPu']*1200, color= 'tab:red', linestyle=':', label='Dynawo')\n",
    "ax[0,0].set_title('Active power (MW)', fontsize=14)\n",
    "ax[0,0].set_ylabel('Active power (MW)', fontsize=14)\n",
    "# ax[0,0].set_xlim([0.4, 1])\n",
    "# ax[0,0].set_ylim([1.004, 1.01])\n",
    "ax[0,0].tick_params(axis='both', which='major', labelsize=14)\n",
    "ax[0,0].tick_params(axis='both', which='minor', labelsize=14)\n",
    "ax[0,0].legend(fontsize=14, loc=\"lower right\")\n",
    "ax[0,0].legend(fontsize=14, loc=\"upper right\")\n",
    "\n",
    "ax[0,1].plot(stepss['time'], stepss['Q_Mvar'], color= 'black', linestyle='-', label='stepss')\n",
    "ax[0,1].plot(openmodelica['time'], openmodelica['InjectorGFL.QGenPu']*1200, color= 'tab:green', linestyle='-.', label='Modelica (noFreeze)')\n",
    "ax[0,1].plot(openmodelica_PIFreeze['time'], openmodelica_PIFreeze['InjectorGFL.QGenPu']*1200, color= 'tab:green', linestyle='-', label='Modelica (CtrlFreeze)')\n",
    "ax[0,1].plot(dynawo['time'], dynawo['GFLVSC_injectorGFL_QGenPu']*1200, color= 'tab:red', linestyle=':', label='Dynawo')\n",
    "ax[0,1].set_title('Reactive power (MVA)', fontsize=14)\n",
    "ax[0,1].set_ylabel('Reactive power (MVA)', fontsize=14)\n",
    "# ax[0,1].set_xlim([0.4, 1])\n",
    "# ax[0,1].set_ylim([1.004, 1.01])\n",
    "ax[0,1].tick_params(axis='both', which='major', labelsize=14)\n",
    "ax[0,1].tick_params(axis='both', which='minor', labelsize=14)\n",
    "ax[0,1].legend(fontsize=14, loc=\"upper right\")\n",
    "\n",
    "ax[1,0].plot(stepss['time'], stepss['Vm'], color= 'black', linestyle='-', label='stepss')\n",
    "ax[1,0].plot(openmodelica['time'], openmodelica['InjectorGFL.UConvPu'], color= 'tab:green', linestyle='-.', label='Modelica (noFreeze)')\n",
    "ax[1,0].plot(openmodelica_PIFreeze['time'], openmodelica_PIFreeze['InjectorGFL.UConvPu'], color= 'tab:green', linestyle='-', label='Modelica (CtrlFreeze)')\n",
    "ax[1,0].plot(dynawo['time'], dynawo['GFLVSC_injectorGFL_UConvPu'], color= 'tab:red', linestyle=':', label='Dynawo')\n",
    "ax[1,0].set_title('Voltage converter terminal (p.u.)', fontsize=14)\n",
    "ax[1,0].set_ylabel('Vm (p.u)', fontsize=14)\n",
    "# ax[1,0].set_xlim([0.4, 1])\n",
    "# ax[1,0].set_ylim([1.004, 1.01])\n",
    "ax[1,0].tick_params(axis='both', which='major', labelsize=14)\n",
    "ax[1,0].tick_params(axis='both', which='minor', labelsize=14)\n",
    "ax[1,0].legend(fontsize=14, loc=\"upper right\")\n",
    "\n",
    "ax[1,1].plot(stepss['time'], stepss['Bus_A'], color= 'black', linestyle='-', label='stepss')\n",
    "ax[1,1].plot(openmodelica['time'], openmodelica['InjectorGFL.UPccPu'], color= 'tab:green', linestyle='-.', label='Modelica (noFreeze)')\n",
    "ax[1,1].plot(openmodelica_PIFreeze['time'], openmodelica_PIFreeze['InjectorGFL.UPccPu'], color= 'tab:green', linestyle='-', label='Modelica (CtrlFreeze)')\n",
    "ax[1,1].plot(dynawo['time'], dynawo['GFLVSC_injectorGFL_UPccPu'], color= 'tab:red', linestyle=':', label='Dynawo')\n",
    "ax[1,1].set_title('Voltage PCC (p.u.)', fontsize=14)\n",
    "ax[1,1].set_ylabel('Vc (p.u)', fontsize=14)\n",
    "# ax[1,1].set_xlim([0.4, 1])\n",
    "# ax[0,0].set_ylim([1.004, 1.01])\n",
    "ax[1,1].tick_params(axis='both', which='major', labelsize=14)\n",
    "ax[1,1].tick_params(axis='both', which='minor', labelsize=14)\n",
    "ax[1,1].legend(fontsize=14, loc=\"upper right\")\n",
    "\n",
    "\n",
    "\n",
    "# figure settings\n",
    "fig.set_figheight(10)\n",
    "fig.set_figwidth(15)\n",
    "# lines_labels = [ax.get_legend_handles_labels() for ax in fig.axes]\n",
    "# lines, labels = [sum(lol, []) for lol in zip(*lines_labels)]\n",
    "# fig.legend(lines, labels)\n",
    "# fig.suptitle('VSCs PCC Voltages', fontsize=16)\n",
    "fig.tight_layout()\n",
    "fig.subplots_adjust(top=0.9)"
   ]
  }
 ],
 "metadata": {
  "kernelspec": {
   "display_name": "Python 3 (ipykernel)",
   "language": "python",
   "name": "python3"
  },
  "language_info": {
   "codemirror_mode": {
    "name": "ipython",
    "version": 3
   },
   "file_extension": ".py",
   "mimetype": "text/x-python",
   "name": "python",
   "nbconvert_exporter": "python",
   "pygments_lexer": "ipython3",
   "version": "3.8.10"
  }
 },
 "nbformat": 4,
 "nbformat_minor": 5
}
