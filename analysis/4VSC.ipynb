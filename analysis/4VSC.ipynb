{
 "cells": [
  {
   "cell_type": "markdown",
   "id": "2f6064f4-85de-47d2-be42-754e5769a859",
   "metadata": {},
   "source": [
    "# Validation notebook of 4-VSC system (GridFollowing): Stepss vs Dynawo\n",
    "# RMS simulation results for different scenarios"
   ]
  },
  {
   "cell_type": "markdown",
   "id": "11f42ae7-bf87-4325-ba79-e64e6c022bc0",
   "metadata": {
    "jp-MarkdownHeadingCollapsed": true,
    "tags": []
   },
   "source": [
    "## <center> Simulation setup </center>\n",
    "| | Stepss | Dynawo | EMTP\n",
    "|-| :---: | :---: | :---: |\n",
    "| Domain | RMS | RMS | EMT |\n",
    "| Duration | 10s | 10s | 10s |\n",
    "| Time step | 1ms (fix) | 10us-10ms (variable) & 1ms (fix) | 50us (fix) |\n",
    "| Solver solution method | DAE | DAE | Nodal |\n",
    "| Solver integration method | Backward Differentiation Formula (order2) | BDF(IDA) & BE, Trapezoidal | Trapezoidal |"
   ]
  },
  {
   "cell_type": "markdown",
   "id": "641d40e7-a871-42e4-99d9-0e5b4489f832",
   "metadata": {},
   "source": [
    "## Plotting Function"
   ]
  },
  {
   "cell_type": "code",
   "execution_count": null,
   "id": "275e2066-87f7-4603-bf85-352ce01efe64",
   "metadata": {},
   "outputs": [],
   "source": [
    "import matplotlib.pyplot as plt\n",
    "import pandas as pd\n",
    "import numpy as np\n",
    "\n",
    "%matplotlib widget"
   ]
  },
  {
   "cell_type": "code",
   "execution_count": null,
   "id": "4377f1d4-150c-4b7f-b3fb-5e5935ebe451",
   "metadata": {
    "tags": []
   },
   "outputs": [],
   "source": [
    "def autoscale_y(ax,margin):\n",
    "    \"\"\"This function rescales the y-axis based on the data that is visible given the current xlim of the axis.\n",
    "    ax -- a matplotlib axes object\n",
    "    margin -- the fraction of the total height of the y-data to pad the upper and lower ylims\"\"\"\n",
    "\n",
    "    def get_bottom_top(line):\n",
    "        xd = line.get_xdata()\n",
    "        yd = line.get_ydata()\n",
    "        lo,hi = ax.get_xlim()\n",
    "        y_displayed = yd[((xd>lo) & (xd<hi))]\n",
    "        h = np.max(y_displayed) - np.min(y_displayed)\n",
    "        bot = np.min(y_displayed)-margin*h\n",
    "        top = np.max(y_displayed)+margin*h\n",
    "        return bot,top\n",
    "\n",
    "    lines = ax.get_lines()\n",
    "    bot,top = np.inf, -np.inf\n",
    "\n",
    "    for line in lines:\n",
    "        new_bot, new_top = get_bottom_top(line)\n",
    "        if new_bot < bot: bot = new_bot\n",
    "        if new_top > top: top = new_top\n",
    "\n",
    "    ax.set_ylim(bot,top)"
   ]
  },
  {
   "cell_type": "code",
   "execution_count": null,
   "id": "c6fe1ade-f575-4dd8-89a8-8e1d04156dbb",
   "metadata": {
    "tags": []
   },
   "outputs": [],
   "source": [
    "def plot_results(scenario, stepss_file, dynawo_file, emtp_file):\n",
    "\n",
    "    stepss = pd.read_csv(stepss_file, sep = '\\s+', comment=\";\", keep_default_na=False, names=('time', 'BUS_A', 'BUS_B', 'BUS_C', 'BUS_E', 'BUS_F'))\n",
    "    dynawo= pd.read_csv(dynawo_file, sep = ';')\n",
    "    \n",
    "    emtp= pd.read_csv(emtp_file, sep = '\\t', low_memory=False)\n",
    "    emtp.drop(index=emtp.index[0], axis=0, inplace=True)\n",
    "    emtp.rename(columns=lambda x: x.strip(), inplace=True)\n",
    "\n",
    "    stepss_variables= ['BUS_A', 'BUS_B', 'BUS_E', 'BUS_F']\n",
    "    dynawo_variables= ['NETWORK__BUS__A_TN_Upu_value', 'NETWORK__BUS__B_TN_Upu_value', 'NETWORK__BUS__E_TN_Upu_value', 'NETWORK__BUS__F_TN_Upu_value']\n",
    "    # dynawo_variables= ['GFLVSC_HVDC1_injectorGFL_UConvPu', 'GFLVSC_HVDC2_injectorGFL_UConvPu', 'GFLVSC_WP1_injectorGFL_UConvPu', 'GFLVSC_WP2_injectorGFL_UConvPu']\n",
    "    emtp_variables= ['uamp_pcc_A_pu', 'uamp_pcc_B_pu', 'uamp_pcc_E_pu',\t'uamp_pcc_F_pu']\n",
    "    # emtp_variables= ['uamp_conv_A_pu', 'uamp_conv_B_pu', 'uamp_conv_E_pu',\t'uamp_conv_F_pu']\n",
    "    labels= ['Bus A Vpcc (p.u)', 'Bus B Vpcc (p.u)', 'Bus E Vpcc (p.u)', 'Bus F Vpcc (p.u)']\n",
    "    \n",
    "    plt.close('all')\n",
    "    fig=plt.figure(figsize=(15, 12))\n",
    "    plt.suptitle(scenario , fontsize=16)\n",
    "    plt.subplots_adjust(top=0.9, hspace=0.4, wspace=0.4)\n",
    "    plt.tight_layout()\n",
    "    \n",
    "    for n, (x, y, z, l) in enumerate(zip(stepss_variables, dynawo_variables, emtp_variables, labels)):\n",
    "        ax = plt.subplot(2, 2, n + 1)\n",
    "        ax.plot(stepss['time'], stepss[x], color= 'black', linestyle='-', label='Stepss')\n",
    "        ax.plot(dynawo['time'], dynawo[y], color= 'tab:green', linestyle=':', label='Dynawo')\n",
    "        ax.plot(pd.to_numeric(emtp['X axis'][::10]), pd.to_numeric(emtp[z][::10]), color= 'blue', linestyle='-', label='EMTP')\n",
    "               \n",
    "        ax.set_title(l, fontsize=14)\n",
    "        ax.set_ylabel(l, fontsize=14)\n",
    "        ax.tick_params(axis='both', which='major', labelsize=14)\n",
    "        ax.tick_params(axis='both', which='minor', labelsize=14)\n",
    "        ax.legend(fontsize=14, loc=\"lower right\")\n",
    "        ax.legend(fontsize=14, loc=\"upper right\")\n",
    "        ax.set_xlim([3, 8])\n",
    "\n",
    "        autoscale_y(ax, 1)\n",
    "        \n",
    "        # if ax.get_title() in [\"P (MW)\", \"Q (Mvar)\"]:\n",
    "        #     autoscale_y(ax, 0.1)\n",
    "        # else:\n",
    "        #     autoscale_y(ax, 0.1)"
   ]
  },
  {
   "cell_type": "markdown",
   "id": "2a317028-846f-4912-a033-b14fa00254d3",
   "metadata": {
    "tags": []
   },
   "source": [
    "## Operating Point 1"
   ]
  },
  {
   "cell_type": "markdown",
   "id": "979e5113-3017-4333-9caf-e2091420750d",
   "metadata": {},
   "source": [
    "### Event: Mild disturbance: line disconnection A-B Line 2"
   ]
  },
  {
   "cell_type": "code",
   "execution_count": null,
   "id": "f1603ffc-d4de-40e5-a7c5-43d509333474",
   "metadata": {},
   "outputs": [],
   "source": [
    "plot_results('Scenario 1: Mild disturbance in Operating point 1: line disconnection A-B Line 2',\n",
    "             './results/4VSC/OP1_DisconnectLine/stepss.csv',\n",
    "             './results/4VSC/OP1_DisconnectLine/dynawo.csv',\n",
    "             './results/4VSC/OP1_DisconnectLine/emtp.csv')"
   ]
  },
  {
   "cell_type": "markdown",
   "id": "abd6af45-dd7b-4811-97bf-cd392b89cd9f",
   "metadata": {},
   "source": [
    "### Event: Severe disturbance: fault Bus A (t=100ms)"
   ]
  },
  {
   "cell_type": "code",
   "execution_count": null,
   "id": "a7174fcb-264a-4e51-a9ab-0464ede757a7",
   "metadata": {
    "tags": []
   },
   "outputs": [],
   "source": [
    "plot_results('Scenario 2: Severe disturbance in Operating point 1: fault (t=100ms) in Bus A',\n",
    "             './results/4VSC/OP1_Fault/stepss.csv', #fault impedance: X=0.001 p.u. (1.6 Ohm)\n",
    "             './results/4VSC/OP1_Fault/dynawo.csv', #fault impedance: X=0.001 p.u.\n",
    "             './results/4VSC/OP1_Fault/emtp.csv') #fault impedance: X=0.001 p.u."
   ]
  },
  {
   "cell_type": "markdown",
   "id": "112087c5-a33f-404b-b12e-900556129cad",
   "metadata": {
    "tags": []
   },
   "source": [
    "## Operating Point 2"
   ]
  },
  {
   "cell_type": "markdown",
   "id": "5a990510-6faa-427f-95ae-1ca3a30eb7aa",
   "metadata": {},
   "source": [
    "### Event: Mild disturbance: line disconnection A-B Line 2"
   ]
  },
  {
   "cell_type": "code",
   "execution_count": null,
   "id": "47d3e032-8bec-4dc1-8ac8-67fce58fce05",
   "metadata": {},
   "outputs": [],
   "source": [
    "plot_results('Scenario 3: Mild disturbance in Operating point 2: line disconnection A-B Line 2',\n",
    "             './results/4VSC/OP2_DisconnectLine/stepss.csv',\n",
    "             './results/4VSC/OP2_DisconnectLine/dynawo.csv',\n",
    "             './results/4VSC/OP2_DisconnectLine/emtp.csv')"
   ]
  },
  {
   "cell_type": "markdown",
   "id": "814d626a-3aac-485d-8ae8-614dfa50b276",
   "metadata": {},
   "source": [
    "### Event: Severe disturbance: fault Bus A (t=100ms)"
   ]
  },
  {
   "cell_type": "code",
   "execution_count": null,
   "id": "7a3dfdd3-8f58-4f4d-b9e9-9940227f690f",
   "metadata": {
    "tags": []
   },
   "outputs": [],
   "source": [
    "plot_results('Scenario 4: Severe disturbance in Operating point 2: fault (t=100ms) in Bus A',\n",
    "             './results/4VSC/OP2_Fault/stepss.csv',  #fault impedance: X=0.001 p.u.\n",
    "             './results/4VSC/OP2_Fault/dynawo.csv',  #fault impedance: X=0.001 p.u.\n",
    "             './results/4VSC/OP2_Fault/emtp.csv')"
   ]
  }
 ],
 "metadata": {
  "kernelspec": {
   "display_name": "Python 3 (ipykernel)",
   "language": "python",
   "name": "python3"
  },
  "language_info": {
   "codemirror_mode": {
    "name": "ipython",
    "version": 3
   },
   "file_extension": ".py",
   "mimetype": "text/x-python",
   "name": "python",
   "nbconvert_exporter": "python",
   "pygments_lexer": "ipython3",
   "version": "3.8.10"
  }
 },
 "nbformat": 4,
 "nbformat_minor": 5
}
