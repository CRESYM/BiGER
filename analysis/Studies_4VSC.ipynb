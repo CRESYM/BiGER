{
 "cells": [
  {
   "cell_type": "markdown",
   "id": "1b3c6989-af7d-406f-a59a-57e826649f1d",
   "metadata": {},
   "source": [
    "# 4-VSC system test case collection Notebook\n",
    "# RMS vs EMT differences in Stability Analysis"
   ]
  },
  {
   "cell_type": "markdown",
   "id": "e6509e3b-7f14-45a8-9c3d-ccfac76721c1",
   "metadata": {},
   "source": [
    "## Plotting Function"
   ]
  },
  {
   "cell_type": "code",
   "execution_count": null,
   "id": "8aa83a07-088d-40c4-baa1-0b3c61241b65",
   "metadata": {},
   "outputs": [],
   "source": [
    "import matplotlib.pyplot as plt\n",
    "import pandas as pd\n",
    "import numpy as np\n",
    "\n",
    "%matplotlib widget"
   ]
  },
  {
   "cell_type": "markdown",
   "id": "1faf4f10-9a7b-4aa3-9331-336cbfab4f71",
   "metadata": {
    "tags": []
   },
   "source": [
    "## **Stability limit as function of External network strength (short circuit power)**"
   ]
  },
  {
   "cell_type": "markdown",
   "id": "58e3683c-f763-4f72-b3de-2a79cac63357",
   "metadata": {
    "tags": []
   },
   "source": [
    "## Operating Point 1"
   ]
  },
  {
   "cell_type": "markdown",
   "id": "bc1c17f3-64b2-4538-8949-6f056fd2ea56",
   "metadata": {},
   "source": [
    "### Event: Mild disturbance: line disconnection A-B Line 2"
   ]
  },
  {
   "cell_type": "code",
   "execution_count": null,
   "id": "89c07401-e16d-4e7f-801c-afc787b1fa21",
   "metadata": {},
   "outputs": [],
   "source": [
    "stepss_files = ['./results/Studies/SCR/stepss_OP1_LD_SC20.csv', # 20000MVA (0.005 p.u)\n",
    "                './results/Studies/SCR/stepss_OP1_LD_SC3p9.csv', \n",
    "                './results/Studies/SCR/stepss_OP1_LD_SC3p85.csv']\n",
    "labels= ['20000 MVA', '3900 MVA', '3850 MVA']\n",
    "ylims= [[0.99, 1.01] , [0.99, 1.01], [0.95, 1.05]]\n",
    "\n",
    "plt.close('all')\n",
    "fig=plt.figure(figsize=(20, 8))\n",
    "plt.suptitle('STEPSS RMS Short circuit power limit Operating point 1, Mild disturbance: line disconnection' , fontsize=25)\n",
    "plt.subplots_adjust(top=0.9, hspace=0.4, wspace=0.4)\n",
    "plt.tight_layout()\n",
    "\n",
    "for n, (file, label, ylim) in enumerate(zip(stepss_files, labels, ylims)):\n",
    "    \n",
    "    stepss = pd.read_csv(file, sep = '\\s+', comment=\";\", keep_default_na=False, names=('time', 'BUS_A', 'BUS_B', 'BUS_C', 'BUS_E', 'BUS_F'))\n",
    "\n",
    "    ax = plt.subplot(1, 3, n + 1)\n",
    "\n",
    "    ax.plot(stepss['time'], stepss['BUS_C'], color='black')\n",
    "    \n",
    "    ax.set_title(label, fontsize=20, y=1.0, pad=-50)\n",
    "    # ax.set_ylabel(label, fontsize=14)\n",
    "    ax.tick_params(axis='both', which='major', labelsize=14)\n",
    "    ax.tick_params(axis='both', which='minor', labelsize=14)\n",
    "    # ax.legend(fontsize=20, loc=\"lower right\")\n",
    "    # ax.legend(fontsize=20, loc=\"upper right\")\n",
    "    ax.set_xlim([5, 8])\n",
    "    ax.set_ylim(ylim)"
   ]
  },
  {
   "cell_type": "code",
   "execution_count": null,
   "id": "3253cf36-c396-45ba-ab7a-1ffc8321c04d",
   "metadata": {},
   "outputs": [],
   "source": [
    "plt.figure(figsize=(15, 12))\n",
    "dynawo_files = ['./results/Studies/SCR/dynawo_OP1_LD_SC20.csv',  # 20000MVA (0.005 p.u)\n",
    "                './results/Studies/SCR/dynawo_OP1_LD_SC4.csv',\n",
    "               './results/Studies/SCR/dynawo_OP1_LD_SC3p95.csv']\n",
    "labels= ['20000 MVA', '4000 MVA', '3950 MVA']\n",
    "ylims= [[0.99, 1.01] , [0.99, 1.01], [0.95, 1.05]]\n",
    "\n",
    "plt.close('all')\n",
    "fig=plt.figure(figsize=(20, 8))\n",
    "plt.suptitle('Dynawo RMS Short circuit power limit Operating point 1, Mild disturbance: line disconnection' , fontsize=16)\n",
    "plt.subplots_adjust(top=0.9, hspace=0.4, wspace=0.4)\n",
    "plt.tight_layout()\n",
    "\n",
    "for n, (file, label, ylim) in enumerate(zip(dynawo_files, labels, ylims)):\n",
    "    \n",
    "    dynawo= pd.read_csv(file, sep = ';')\n",
    "    \n",
    "    ax = plt.subplot(1, 3, n + 1)\n",
    "    plt.plot(dynawo['time'], dynawo['NETWORK__BUS__C_TN_Upu_value'], color='black')\n",
    "    \n",
    "    ax.set_title(label, fontsize=20, y=1.0, pad=-50)\n",
    "    # ax.set_ylabel(label, fontsize=14)\n",
    "    ax.tick_params(axis='both', which='major', labelsize=14)\n",
    "    ax.tick_params(axis='both', which='minor', labelsize=14)\n",
    "    # ax.legend(fontsize=20, loc=\"lower right\")\n",
    "    # ax.legend(fontsize=20, loc=\"upper right\")\n",
    "    ax.set_xlim([5, 8])\n",
    "    ax.set_ylim(ylim)"
   ]
  },
  {
   "cell_type": "code",
   "execution_count": null,
   "id": "6ffee9dc-6b08-4eaf-8901-1d44bb312313",
   "metadata": {},
   "outputs": [],
   "source": [
    "emtp_files = ['./results/Studies/SCR/emtp_OP1_LD_SC20.csv',\n",
    "             './results/Studies/SCR/emtp_OP1_LD_SC13p5.csv',\n",
    "             './results/Studies/SCR/emtp_OP1_LD_SC13.csv']\n",
    "labels= ['20000 MVA' , '13500 MVA', '13000 MVA']\n",
    "ylims= [[0.975, 0.979] , [0.964, 0.968], [0.3, 2]]\n",
    "\n",
    "plt.close('all')\n",
    "fig=plt.figure(figsize=(20, 8))\n",
    "plt.suptitle('EMT Short circuit power limit Operating point 1, Mild disturbance: line disconnection' , fontsize=16)\n",
    "plt.subplots_adjust(top=0.9, hspace=0.4, wspace=0.4)\n",
    "plt.tight_layout()\n",
    "\n",
    "for n, (file, label, ylim) in enumerate(zip(emtp_files, labels, ylims)):\n",
    "    \n",
    "    emtp= pd.read_csv(file, sep = '\\t', low_memory=False)\n",
    "    emtp.drop(index=emtp.index[0], axis=0, inplace=True)\n",
    "    emtp.rename(columns=lambda x: x.strip(), inplace=True)\n",
    "    \n",
    "    ax = plt.subplot(1, 3, n + 1)\n",
    "    ax.plot(pd.to_numeric(emtp['X axis'][:]), pd.to_numeric(emtp['uamp_pcc_C_pu'][:]), color='black')\n",
    "    \n",
    "    ax.set_title(label, fontsize=20, y=1.0, pad=-50)\n",
    "    # ax.set_ylabel(label, fontsize=14)\n",
    "    ax.tick_params(axis='both', which='major', labelsize=14)\n",
    "    ax.tick_params(axis='both', which='minor', labelsize=14)\n",
    "    # ax.legend(fontsize=20, loc=\"lower right\")\n",
    "    # ax.legend(fontsize=20, loc=\"upper right\")\n",
    "    ax.set_xlim([5, 8])\n",
    "    ax.set_ylim(ylim)\n",
    "               \n"
   ]
  },
  {
   "cell_type": "markdown",
   "id": "ea1f523d-25b7-4d75-80a1-ec73c19fb998",
   "metadata": {
    "tags": []
   },
   "source": [
    "## Operating Point 2"
   ]
  },
  {
   "cell_type": "markdown",
   "id": "6be763b2-5ec1-4645-a55b-d7ad95f7caca",
   "metadata": {},
   "source": [
    "### Event: Mild disturbance: line disconnection A-B Line 2"
   ]
  },
  {
   "cell_type": "code",
   "execution_count": null,
   "id": "4ad92694-0837-4e52-939b-21110d9e4f96",
   "metadata": {},
   "outputs": [],
   "source": [
    "stepss_files = ['./results/Studies/SCR/stepss_OP2_LD_SC20.csv',  # 20000MVA (0.005 p.u)\n",
    "              './results/Studies/SCR/stepss_OP2_LD_SC2p4.csv',\n",
    "              './results/Studies/SCR/stepss_OP2_LD_SC2p35.csv'               ]\n",
    "labels= ['20000 MVA', '2400 MVA', '2350 MVA']\n",
    "ylims= [[0.99, 1.01] , [0.99, 1.01], [0.99, 1.01]]\n",
    "\n",
    "plt.close('all')\n",
    "fig=plt.figure(figsize=(20, 8))\n",
    "plt.suptitle('STEPSS RMS Short circuit power limit Operating point 2, Mild disturbance: line disconnection' , fontsize=16)\n",
    "plt.subplots_adjust(top=0.9, hspace=0.4, wspace=0.4)\n",
    "plt.tight_layout()\n",
    "\n",
    "for n, (file, label, ylim) in enumerate(zip(stepss_files, labels, ylims)):\n",
    "    \n",
    "    stepss = pd.read_csv(file, sep = '\\s+', comment=\";\", keep_default_na=False, names=('time', 'BUS_A', 'BUS_B', 'BUS_C', 'BUS_E', 'BUS_F'))\n",
    "\n",
    "    ax = plt.subplot(1, 3, n + 1)\n",
    "\n",
    "    ax.plot(stepss['time'], stepss['BUS_C'], color='black')\n",
    "    \n",
    "    ax.set_title(label, fontsize=20, y=1.0, pad=-50)\n",
    "    # ax.set_ylabel(label, fontsize=14)\n",
    "    ax.tick_params(axis='both', which='major', labelsize=14)\n",
    "    ax.tick_params(axis='both', which='minor', labelsize=14)\n",
    "    # ax.legend(fontsize=20, loc=\"lower right\")\n",
    "    # ax.legend(fontsize=20, loc=\"upper right\")\n",
    "    ax.set_xlim([5, 8])\n",
    "    ax.set_ylim(ylim)"
   ]
  },
  {
   "cell_type": "code",
   "execution_count": null,
   "id": "55ff9f0e-b804-40f9-8b01-707b64720a3c",
   "metadata": {},
   "outputs": [],
   "source": [
    "plt.figure(figsize=(15, 12))\n",
    "dynawo_files = ['./results/Studies/SCR/dynawo_OP2_LD_SC20.csv',  # 20000MVA (0.005 p.u)\n",
    "                './results/Studies/SCR/dynawo_OP2_LD_SC3p85.csv',\n",
    "               './results/Studies/SCR/dynawo_OP2_LD_SC3p8.csv']\n",
    "labels= ['20000 MVA', '3850 MVA', '3800 MVA']\n",
    "ylims= [[0.99, 1.01] , [0.99, 1.01], [0.99, 1.01]]\n",
    "\n",
    "plt.close('all')\n",
    "fig=plt.figure(figsize=(20, 8))\n",
    "plt.suptitle('Dynawo RMS Short circuit power limit Operating point 1, Mild disturbance: line disconnection' , fontsize=16)\n",
    "plt.subplots_adjust(top=0.9, hspace=0.4, wspace=0.4)\n",
    "plt.tight_layout()\n",
    "\n",
    "for n, (file, label, ylim) in enumerate(zip(dynawo_files, labels, ylims)):\n",
    "    \n",
    "    dynawo= pd.read_csv(file, sep = ';')\n",
    "\n",
    "    ax = plt.subplot(1, 3, n + 1)\n",
    "    plt.plot(dynawo['time'], dynawo['NETWORK__BUS__C_TN_Upu_value'], color='black')\n",
    "    \n",
    "    ax.set_title(label, fontsize=20, y=1.0, pad=-50)\n",
    "    # ax.set_ylabel(label, fontsize=14)\n",
    "    ax.tick_params(axis='both', which='major', labelsize=14)\n",
    "    ax.tick_params(axis='both', which='minor', labelsize=14)\n",
    "    # ax.legend(fontsize=20, loc=\"lower right\")\n",
    "    # ax.legend(fontsize=20, loc=\"upper right\")\n",
    "    ax.set_xlim([5, 8])\n",
    "    ax.set_ylim(ylim)"
   ]
  },
  {
   "cell_type": "code",
   "execution_count": null,
   "id": "515f4229-b074-44ce-9a85-f86855f5199e",
   "metadata": {},
   "outputs": [],
   "source": [
    "plt.figure(figsize=(15, 12))\n",
    "emtp_files = ['./results/Studies/SCR/emtp_OP2_LD_SC20.csv',\n",
    "             './results/Studies/SCR/emtp_OP2_LD_SC12p5.csv',\n",
    "             './results/Studies/SCR/emtp_OP2_LD_SC12.csv']\n",
    "labels= ['20000 MVA' , '12500 MVA', '12000 MVA']\n",
    "ylims= [[0.9985, 1.0005] , [0.9985, 1.0005], [0.6, 1.4]]\n",
    "\n",
    "plt.close('all')\n",
    "fig=plt.figure(figsize=(20, 8))\n",
    "plt.suptitle('EMT Short circuit power limit Operating point 2, Mild disturbance: line disconnection' , fontsize=16)\n",
    "plt.subplots_adjust(top=0.9, hspace=0.4, wspace=0.4)\n",
    "plt.tight_layout()\n",
    "\n",
    "for n, (file, label, ylim) in enumerate(zip(emtp_files, labels, ylims)):\n",
    "    \n",
    "    emtp= pd.read_csv(file, sep = '\\t', low_memory=False)\n",
    "    emtp.drop(index=emtp.index[0], axis=0, inplace=True)\n",
    "    emtp.rename(columns=lambda x: x.strip(), inplace=True)\n",
    "    \n",
    "    ax = plt.subplot(1, 3, n + 1)\n",
    "    ax.plot(pd.to_numeric(emtp['X axis'][:]), pd.to_numeric(emtp['uamp_pcc_C_pu'][:]), color='black')\n",
    "    \n",
    "    ax.set_title(label, fontsize=20, y=1.0, pad=-50)\n",
    "    # ax.set_ylabel(label, fontsize=14)\n",
    "    ax.tick_params(axis='both', which='major', labelsize=14)\n",
    "    ax.tick_params(axis='both', which='minor', labelsize=14)\n",
    "    # ax.legend(fontsize=20, loc=\"lower right\")\n",
    "    # ax.legend(fontsize=20, loc=\"upper right\")\n",
    "    ax.set_xlim([5, 8])\n",
    "    ax.set_ylim(ylim)"
   ]
  }
 ],
 "metadata": {
  "kernelspec": {
   "display_name": "Python 3 (ipykernel)",
   "language": "python",
   "name": "python3"
  },
  "language_info": {
   "codemirror_mode": {
    "name": "ipython",
    "version": 3
   },
   "file_extension": ".py",
   "mimetype": "text/x-python",
   "name": "python",
   "nbconvert_exporter": "python",
   "pygments_lexer": "ipython3",
   "version": "3.8.10"
  }
 },
 "nbformat": 4,
 "nbformat_minor": 5
}
