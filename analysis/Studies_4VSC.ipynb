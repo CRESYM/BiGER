{
 "cells": [
  {
   "cell_type": "markdown",
   "id": "1b3c6989-af7d-406f-a59a-57e826649f1d",
   "metadata": {},
   "source": [
    "# 4-VSC system test case collection Notebook\n",
    "# RMS vs EMT differences in Stability Analysis"
   ]
  },
  {
   "cell_type": "markdown",
   "id": "e6509e3b-7f14-45a8-9c3d-ccfac76721c1",
   "metadata": {},
   "source": [
    "## Plotting Function"
   ]
  },
  {
   "cell_type": "code",
   "execution_count": null,
   "id": "8aa83a07-088d-40c4-baa1-0b3c61241b65",
   "metadata": {},
   "outputs": [],
   "source": [
    "import matplotlib.pyplot as plt\n",
    "import pandas as pd\n",
    "import numpy as np\n",
    "\n",
    "%matplotlib widget"
   ]
  },
  {
   "cell_type": "code",
   "execution_count": null,
   "id": "ad467941-8ebb-4eab-8876-49c83177860d",
   "metadata": {
    "tags": []
   },
   "outputs": [],
   "source": [
    "def autoscale_y(ax,margin):\n",
    "    \"\"\"This function rescales the y-axis based on the data that is visible given the current xlim of the axis.\n",
    "    ax -- a matplotlib axes object\n",
    "    margin -- the fraction of the total height of the y-data to pad the upper and lower ylims\"\"\"\n",
    "\n",
    "    def get_bottom_top(line):\n",
    "        xd = line.get_xdata()\n",
    "        yd = line.get_ydata()\n",
    "        lo,hi = ax.get_xlim()\n",
    "        y_displayed = yd[((xd>lo) & (xd<hi))]\n",
    "        h = np.max(y_displayed) - np.min(y_displayed)\n",
    "        bot = np.min(y_displayed)-margin*h\n",
    "        top = np.max(y_displayed)+margin*h\n",
    "        return bot,top\n",
    "\n",
    "    lines = ax.get_lines()\n",
    "    bot,top = np.inf, -np.inf\n",
    "\n",
    "    for line in lines:\n",
    "        new_bot, new_top = get_bottom_top(line)\n",
    "        if new_bot < bot: bot = new_bot\n",
    "        if new_top > top: top = new_top\n",
    "\n",
    "    ax.set_ylim(bot,top)"
   ]
  },
  {
   "cell_type": "code",
   "execution_count": null,
   "id": "cd763dff-6151-4e85-97ed-e9a01b426c0a",
   "metadata": {
    "tags": []
   },
   "outputs": [],
   "source": [
    "def plot_results(scenario, stepss_file, dynawo_file, emtp_file):\n",
    "\n",
    "    stepss = pd.read_csv(stepss_file, sep = '\\s+', comment=\";\", keep_default_na=False, names=('time', 'BUS_A', 'BUS_B', 'BUS_C', 'BUS_E', 'BUS_F'))\n",
    "    dynawo= pd.read_csv(dynawo_file, sep = ';')\n",
    "    \n",
    "    emtp= pd.read_csv(emtp_file, sep = '\\t', low_memory=False)\n",
    "    emtp.drop(index=emtp.index[0], axis=0, inplace=True)\n",
    "    emtp.rename(columns=lambda x: x.strip(), inplace=True)\n",
    "\n",
    "    stepss_variables= ['BUS_A', 'BUS_B', 'BUS_E', 'BUS_F']\n",
    "    dynawo_variables= ['NETWORK__BUS__A_TN_Upu_value', 'NETWORK__BUS__B_TN_Upu_value', 'NETWORK__BUS__E_TN_Upu_value', 'NETWORK__BUS__F_TN_Upu_value']\n",
    "    emtp_variables= ['uamp_pcc_A_pu', 'uamp_pcc_B_pu', 'uamp_pcc_E_pu',\t'uamp_pcc_F_pu']\n",
    "    labels= ['Bus A Vpcc (p.u)', 'Bus B Vpcc (p.u)', 'Bus E Vpcc (p.u)', 'Bus F Vpcc (p.u)']\n",
    "    \n",
    "    plt.close('all')\n",
    "    fig=plt.figure(figsize=(15, 12))\n",
    "    plt.suptitle(scenario , fontsize=16)\n",
    "    plt.subplots_adjust(top=0.9, hspace=0.4, wspace=0.4)\n",
    "    plt.tight_layout()\n",
    "    \n",
    "    for n, (x, y, z, l) in enumerate(zip(stepss_variables, dynawo_variables, emtp_variables, labels)):\n",
    "        ax = plt.subplot(2, 2, n + 1)\n",
    "        ax.plot(stepss['time'], stepss[x], color= 'black', linestyle='-', label='Stepss')\n",
    "        ax.plot(dynawo['time'], dynawo[y], color= 'tab:green', linestyle=':', label='Dynawo')\n",
    "        ax.plot(pd.to_numeric(emtp['X axis'][::10]), pd.to_numeric(emtp[z][::10]), color= 'blue', linestyle=':', label='EMTP')\n",
    "               \n",
    "        ax.set_title(l, fontsize=14)\n",
    "        ax.set_ylabel(l, fontsize=14)\n",
    "        ax.tick_params(axis='both', which='major', labelsize=14)\n",
    "        ax.tick_params(axis='both', which='minor', labelsize=14)\n",
    "        ax.legend(fontsize=14, loc=\"lower right\")\n",
    "        ax.legend(fontsize=14, loc=\"upper right\")\n",
    "        ax.set_xlim([3, 8])\n",
    "\n",
    "        autoscale_y(ax, 10)\n",
    "        \n",
    "        # if ax.get_title() in [\"P (MW)\", \"Q (Mvar)\"]:\n",
    "        #     autoscale_y(ax, 0.1)\n",
    "        # else:\n",
    "        #     autoscale_y(ax, 0.1)"
   ]
  },
  {
   "cell_type": "markdown",
   "id": "1faf4f10-9a7b-4aa3-9331-336cbfab4f71",
   "metadata": {
    "tags": []
   },
   "source": [
    "## **Stability limit as function of External network strength (short circuit power)**"
   ]
  },
  {
   "cell_type": "markdown",
   "id": "782662ec-6774-4a60-9037-d82c0348a8d8",
   "metadata": {
    "tags": []
   },
   "source": [
    "### Scenario 1:\n",
    "- Initial state: Operating point 1\n",
    "- Event: Mild disturbance: line disconnection"
   ]
  },
  {
   "cell_type": "code",
   "execution_count": null,
   "id": "71d2e8e1-bcb5-4a85-8740-9e6f01003507",
   "metadata": {},
   "outputs": [],
   "source": [
    "plot_results('Scenario 1: SCR 20000MMVA , Operating point 1, Mild disturbance: line disconnection',\n",
    "             './results/Studies/SCR/stepss_OP1_LD_SC20.csv', # 20000MVA (0.005 p.u)\n",
    "             './results/Studies/SCR/dynawo_OP1_LD_SC20.csv',  # 20000MVA (0.005 p.u)\n",
    "            './results/Studies/SCR/emtp_OP1_LD_SC20.csv') # 20000MVA (0.005 p.u)"
   ]
  },
  {
   "cell_type": "code",
   "execution_count": null,
   "id": "130c52ca-65da-42b6-84d2-4263a206bdef",
   "metadata": {},
   "outputs": [],
   "source": [
    "plot_results('Scenario 1: SCR Limits , Operating point 1, Mild disturbance: line disconnection',\n",
    "             './results/Studies/SCR/stepss_OP1_LD_SC4.csv', # 4000MVA (0.025 p.u)\n",
    "             './results/Studies/SCR/dynawo_OP1_LD_SC4.csv', # 4000MVA (0.025 p.u)\n",
    "             # './results/Studies/SCR/emtp_OP1_LD_SC15.csv') # 15000 MVA (10.666 Ohm)\n",
    "             './results/Studies/SCR/emtp_OP1_LD_SC14.csv') # 14000 MVA (11.42857 Ohm)\n",
    "             # './results/Studies/SCR/emtp_OP1_LD_SC13p5.csv') # 13500 MVA (11.8518518 Ohm)\n",
    "             # './results/Studies/SCR/emtp_OP1_LD_SC13.csv') # 13000 MVA (12.30769 Ohm)"
   ]
  },
  {
   "cell_type": "markdown",
   "id": "43d646fb-51dd-4244-b0d2-4b37f7f4d3a7",
   "metadata": {
    "tags": []
   },
   "source": [
    "### Scenario 2:\n",
    "- Initial state: Operating point 2\n",
    "- Event: Mild disturbance: line disconnection"
   ]
  },
  {
   "cell_type": "code",
   "execution_count": null,
   "id": "6156b76d-d9e9-482d-b200-61211f754ca4",
   "metadata": {},
   "outputs": [],
   "source": [
    "plot_results('Scenario 2: SCR 20000MMVA , Operating point 2, Mild disturbance: line disconnection',\n",
    "             './results/Studies/SCR/stepss_OP2_LD_SC20.csv', # 20000MVA (0.005p.u)\n",
    "             './results/Studies/SCR/dynawo_OP2_LD_SC20.csv', # 20000MVA (0.005p.u)\n",
    "             './results/Studies/SCR/emtp.csv') # 20000MVA (0.005p.u)"
   ]
  },
  {
   "cell_type": "code",
   "execution_count": null,
   "id": "3fbf17f2-4523-4fdf-bd36-49433465661e",
   "metadata": {},
   "outputs": [],
   "source": [
    "plot_results('Scenario 2: SCR 5000MMVA , Operating point 2, Mild disturbance: line disconnection',\n",
    "             './results/Studies/SCR/stepss_OP2_LD_SC5.csv', # 5000MVA (0.02p.u)\n",
    "              # './results/Studies/SCR/dynawo_OP2_LD_SC10.csv', # 10000MVA (0.01p.u)\n",
    "             './results/Studies/SCR/dynawo_OP2_LD_SC5.csv', # 5000MVA (0.02p.u)\n",
    "             './results/Studies/SCR/emtp_OP1_LD_SC16.csv') # 5000MVA (0.02p.u)"
   ]
  },
  {
   "cell_type": "markdown",
   "id": "49630946-3eb8-4eca-9ad0-80686400e82d",
   "metadata": {},
   "source": [
    "- Visualization:\n",
    "    - VSCs PCC bus Votages\n",
    "    - VSCs injected active/reactive power (prior to transformer at converter terminal)\n",
    "    \n",
    "- Post processing"
   ]
  }
 ],
 "metadata": {
  "kernelspec": {
   "display_name": "Python 3 (ipykernel)",
   "language": "python",
   "name": "python3"
  },
  "language_info": {
   "codemirror_mode": {
    "name": "ipython",
    "version": 3
   },
   "file_extension": ".py",
   "mimetype": "text/x-python",
   "name": "python",
   "nbconvert_exporter": "python",
   "pygments_lexer": "ipython3",
   "version": "3.8.10"
  }
 },
 "nbformat": 4,
 "nbformat_minor": 5
}
