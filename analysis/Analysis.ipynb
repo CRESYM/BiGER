{
 "cells": [
  {
   "cell_type": "markdown",
   "id": "1b3c6989-af7d-406f-a59a-57e826649f1d",
   "metadata": {},
   "source": [
    "# 4-VSC system test case collection Notebook\n",
    "# RMS vs EMT differences in Stability Analysis"
   ]
  },
  {
   "cell_type": "markdown",
   "id": "4ac97b58-03b6-4d8b-bf32-0bc80b1f9d0d",
   "metadata": {},
   "source": [
    "## Plotting Function"
   ]
  },
  {
   "cell_type": "code",
   "execution_count": null,
   "id": "9f84511e-e642-4212-a95e-6d0b76c0abce",
   "metadata": {},
   "outputs": [],
   "source": [
    "import matplotlib.pyplot as plt\n",
    "import pandas as pd\n",
    "\n",
    "%matplotlib widget"
   ]
  },
  {
   "cell_type": "code",
   "execution_count": null,
   "id": "beba44ea-62c6-4f78-8a58-68d55ba8007a",
   "metadata": {},
   "outputs": [],
   "source": [
    "def plot_results(scenario, stepss_file, dynawo_file):\n",
    "\n",
    "    stepss = pd.read_csv(stepss_file, sep = '\\s+', comment=\";\", keep_default_na=False, names=('time', 'BUS_A', 'BUS_B', 'BUS_C', 'BUS_E', 'BUS_F'))\n",
    "    dynawo= pd.read_csv(dynawo_file, sep = ';')\n",
    "\n",
    "        \n",
    "    stepss_variables= ['BUS_A', 'BUS_B', 'BUS_E', 'BUS_F']\n",
    "    dynawo_variables= ['NETWORK__BUS__A_TN_Upu_value', 'NETWORK__BUS__B_TN_Upu_value', 'NETWORK__BUS__E_TN_Upu_value', 'NETWORK__BUS__F_TN_Upu_value']\n",
    "    labels= ['Bus A Vpcc (p.u)', 'Bus B Vpcc (p.u)', 'Bus E Vpcc (p.u)', 'Bus F Vpcc (p.u)']\n",
    "\n",
    "    plt.close('all')\n",
    "    plt.figure(figsize=(15, 12))\n",
    "    plt.suptitle(scenario , fontsize=16)\n",
    "    plt.subplots_adjust(top=0.9, hspace=0.4, wspace=0.4)\n",
    "    plt.tight_layout()\n",
    "    \n",
    "    for n, (x, y, l) in enumerate(zip(stepss_variables, dynawo_variables, labels)):\n",
    "        ax = plt.subplot(2, 2, n + 1)\n",
    "        ax.plot(stepss['time'], stepss[x], color= 'black', linestyle='-', label='Stepss')\n",
    "        # ax.plot(dynawo['time'], dynawo[y], color= 'tab:green', linestyle='-.', label='Dynawo')\n",
    "\n",
    "        ax.set_xlim([4, 7])\n",
    "        # ax.set_ylim([min(min(stepss[x]), min(dynawo[y]))- 0.01, max(max(stepss[x]), max(dynawo[y]))+ 0.01])\n",
    "        \n",
    "        ax.set_title(l, fontsize=14)\n",
    "        ax.set_ylabel(l, fontsize=14)\n",
    "        ax.tick_params(axis='both', which='major', labelsize=14)\n",
    "        ax.tick_params(axis='both', which='minor', labelsize=14)\n",
    "        ax.legend(fontsize=14, loc=\"lower right\")\n",
    "        ax.legend(fontsize=14, loc=\"upper right\")\n"
   ]
  },
  {
   "cell_type": "markdown",
   "id": "1faf4f10-9a7b-4aa3-9331-336cbfab4f71",
   "metadata": {
    "tags": []
   },
   "source": [
    "## SCR"
   ]
  },
  {
   "cell_type": "markdown",
   "id": "c1310420-d620-4a59-98a1-26c42b5cceda",
   "metadata": {
    "jp-MarkdownHeadingCollapsed": true
   },
   "source": [
    "### Scenario 1:\n",
    "- Initial state: Operating point 1\n",
    "- Event: Severe disturbance: fault Bus A\n",
    "    - Fault duration should be fixed at 150ms (worst case 100ms)\n",
    "    - Fault impedance: R/X= 1.6 Ohm (0.001 p.u.)\n",
    "- **Network variation: External network strength (short circuit power)**\n",
    "    - 500MVA steps"
   ]
  },
  {
   "cell_type": "markdown",
   "id": "43d646fb-51dd-4244-b0d2-4b37f7f4d3a7",
   "metadata": {
    "tags": []
   },
   "source": [
    "### Scenario 2:\n",
    "- Initial state: Operating point 2\n",
    "- Event: Mild disturbance: line disconnection\n",
    "- **Network variation: External network strength (short circuit power)**\n",
    "    - 500MVA steps"
   ]
  },
  {
   "cell_type": "code",
   "execution_count": null,
   "id": "6156b76d-d9e9-482d-b200-61211f754ca4",
   "metadata": {},
   "outputs": [],
   "source": [
    "plot_results('Scenario 2: SCR 20000MMVA , Operating point 2, Mild disturbance: line disconnection',\n",
    "             './results/Studies/SCR/stepss_OP2_LD_SCR_20000.csv', # 20000MVA (0.005p.u)\n",
    "             './results/Studies/SCR/dynawo_OP2_LD_SCR_20000.csv') # 20000MVA (0.005p.u)"
   ]
  },
  {
   "cell_type": "code",
   "execution_count": null,
   "id": "3fbf17f2-4523-4fdf-bd36-49433465661e",
   "metadata": {},
   "outputs": [],
   "source": [
    "plot_results('Scenario 2: SCR 5500MMVA , Operating point 2, Mild disturbance: line disconnection',\n",
    "             './results/Studies/SCR/stepss_OP2_LD_SCR_5500.csv', # 5500MVA (0.0182p.u)\n",
    "             './results/Studies/SCR/dynawo_OP2_LD_SCR_5500.csv') # 5500MVA (0.0182p.u)"
   ]
  },
  {
   "cell_type": "code",
   "execution_count": null,
   "id": "fa665566-eca7-4a30-9a23-db6444e0b6cc",
   "metadata": {},
   "outputs": [],
   "source": [
    "plot_results('Scenario 2: SCR 5500MMVA , Operating point 2, Mild disturbance: line disconnection',\n",
    "             './results/Studies/SCR/stepss_OP2_LD_SCR_4000.csv', # 5500MVA (0.0182p.u)\n",
    "             './results/Studies/SCR/dynawo_OP2_LD_SCR_5500.csv') # 5500MVA (0.0182p.u)"
   ]
  },
  {
   "cell_type": "markdown",
   "id": "49630946-3eb8-4eca-9ad0-80686400e82d",
   "metadata": {},
   "source": [
    "- Visualization:\n",
    "    - VSCs PCC bus Votages\n",
    "    - VSCs injected active/reactive power (prior to transformer at converter terminal)\n",
    "    \n",
    "- Post processing"
   ]
  }
 ],
 "metadata": {
  "kernelspec": {
   "display_name": "Python 3 (ipykernel)",
   "language": "python",
   "name": "python3"
  },
  "language_info": {
   "codemirror_mode": {
    "name": "ipython",
    "version": 3
   },
   "file_extension": ".py",
   "mimetype": "text/x-python",
   "name": "python",
   "nbconvert_exporter": "python",
   "pygments_lexer": "ipython3",
   "version": "3.8.10"
  }
 },
 "nbformat": 4,
 "nbformat_minor": 5
}
